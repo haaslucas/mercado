{
 "cells": [
  {
   "cell_type": "code",
   "execution_count": null,
   "id": "59947766",
   "metadata": {},
   "outputs": [],
   "source": [
    "%pip install -q amplpy\n",
    "from amplpy import AMPL, ampl_notebook\n",
    "ampl = ampl_notebook(\n",
    "    modules=[\"highs\", \"cbc\", \"gurobi\", \"cplex\"], # pick from over 20 modules including most commercial and open-source solvers\n",
    "    license_uuid=\"b90e1b29-91d3-4484-9077-4df51e8730f5\") # your license UUID (e.g., free ampl.com/ce or ampl.com/courses licenses)"
   ]
  }
 ],
 "metadata": {
  "language_info": {
   "name": "python"
  }
 },
 "nbformat": 4,
 "nbformat_minor": 5
}
